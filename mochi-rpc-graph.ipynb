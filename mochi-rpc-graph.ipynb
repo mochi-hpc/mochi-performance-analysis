{
 "cells": [
  {
   "cell_type": "markdown",
   "id": "3f8cb58d-6903-48a2-9c70-78e5299f0469",
   "metadata": {},
   "source": [
    "# Displaying RPC graphs"
   ]
  },
  {
   "cell_type": "markdown",
   "id": "1902617d-7e79-4b9f-8445-01ab6aa13635",
   "metadata": {},
   "source": [
    "This notebook provides code to display RPC graphs with the various operations extracted by margo's monitoring system."
   ]
  },
  {
   "cell_type": "code",
   "execution_count": 1,
   "id": "d75f75fe-baf6-4a2e-89f1-a21e5622e1fa",
   "metadata": {},
   "outputs": [],
   "source": [
    "from mochi_perf.graph import OriginRPCGraph, TargetRPCGraph"
   ]
  },
  {
   "cell_type": "code",
   "execution_count": 3,
   "id": "55d974e1-1f90-4b74-b95a-4841565f608c",
   "metadata": {},
   "outputs": [
    {
     "data": {
      "image/svg+xml": [
       "<svg xmlns=\"http://www.w3.org/2000/svg\" xmlns:xlink=\"http://www.w3.org/1999/xlink\" width=\"240pt\" height=\"380pt\" viewBox=\"0 0 240 380\" version=\"1.1\">\n",
       "<g id=\"surface6\">\n",
       "<path style=\"fill:none;stroke-width:0.015;stroke-linecap:butt;stroke-linejoin:miter;stroke:rgb(0%,0%,0%);stroke-opacity:1;stroke-miterlimit:10;\" d=\"M 0.6 0 L 0.6 0.979996 M 0.579997 0.945354 L 0.6 0.979996 L 0.620003 0.945354 \" transform=\"matrix(240,0,0,380,0,0)\"/>\n",
       "<path style=\"fill:none;stroke-width:0.015;stroke-linecap:butt;stroke-linejoin:miter;stroke:rgb(0%,0%,0%);stroke-opacity:1;stroke-miterlimit:10;\" d=\"M 0.8 0 L 0.8 0.979996 M 0.779997 0.945354 L 0.8 0.979996 L 0.820003 0.945354 \" transform=\"matrix(240,0,0,380,0,0)\"/>\n",
       "<path style=\"fill:none;stroke-width:0.015;stroke-linecap:butt;stroke-linejoin:miter;stroke:rgb(0%,0%,0%);stroke-opacity:1;stroke-miterlimit:10;\" d=\"M 0.520003 0 L 0.679997 0 \" transform=\"matrix(240,0,0,380,0,0)\"/>\n",
       "<path style=\"fill-rule:nonzero;fill:rgb(88.235294%,83.529412%,90.588235%);fill-opacity:1;stroke-width:0.002;stroke-linecap:butt;stroke-linejoin:miter;stroke:rgb(58.823529%,45.098039%,65.098039%);stroke-opacity:1;stroke-miterlimit:10;\" d=\"M 0.520003 0.0899979 L 0.679997 0.0899979 L 0.679997 0.360002 L 0.520003 0.360002 Z M 0.520003 0.0899979 \" transform=\"matrix(240,0,0,380,0,0)\"/>\n",
       "<path style=\"fill-rule:nonzero;fill:rgb(85.490196%,90.980392%,98.823529%);fill-opacity:1;stroke-width:0.002;stroke-linecap:butt;stroke-linejoin:miter;stroke:rgb(42.352941%,55.686275%,74.901961%);stroke-opacity:1;stroke-miterlimit:10;\" d=\"M 0.520003 0.135002 L 0.679997 0.135002 L 0.679997 0.225 L 0.520003 0.225 Z M 0.520003 0.135002 \" transform=\"matrix(240,0,0,380,0,0)\"/>\n",
       "<path style=\"fill-rule:nonzero;fill:rgb(97.254902%,80.784314%,80%);fill-opacity:1;stroke-width:0.002;stroke-linecap:butt;stroke-linejoin:miter;stroke:rgb(40.784314%,32.941176%,31.372549%);stroke-opacity:1;stroke-miterlimit:10;\" d=\"M 0.520003 0.45 L 0.679997 0.45 L 0.679997 0.629996 L 0.520003 0.629996 Z M 0.520003 0.45 \" transform=\"matrix(240,0,0,380,0,0)\"/>\n",
       "<path style=\"fill-rule:nonzero;fill:rgb(83.529412%,90.980392%,83.137255%);fill-opacity:1;stroke-width:0.002;stroke-linecap:butt;stroke-linejoin:miter;stroke:rgb(50.980392%,70.196078%,40%);stroke-opacity:1;stroke-miterlimit:10;\" d=\"M 0.520003 0.720004 L 0.679997 0.720004 L 0.679997 0.9 L 0.520003 0.9 Z M 0.520003 0.720004 \" transform=\"matrix(240,0,0,380,0,0)\"/>\n",
       "<path style=\"fill-rule:nonzero;fill:rgb(100%,94.901961%,80%);fill-opacity:1;stroke-width:0.002;stroke-linecap:butt;stroke-linejoin:miter;stroke:rgb(83.921569%,71.372549%,33.72549%);stroke-opacity:1;stroke-miterlimit:10;\" d=\"M 0.720003 0.539998 L 0.879997 0.539998 L 0.879997 0.585002 L 0.720003 0.585002 Z M 0.720003 0.539998 \" transform=\"matrix(240,0,0,380,0,0)\"/>\n",
       "</g>\n",
       "</svg>"
      ],
      "text/plain": [
       "<IPython.core.display.SVG object>"
      ]
     },
     "execution_count": 3,
     "metadata": {},
     "output_type": "execute_result"
    }
   ],
   "source": [
    "OriginRPCGraph(\n",
    "    iforward={'start': 0.1, 'duration': 0.3},\n",
    "    set_input={'start': 0.15, 'duration': 0.1},\n",
    "    wait={'start': 0.5, 'duration': 0.2},\n",
    "    forward_cb={'start': 0.6, 'duration': 0.05},\n",
    "    get_output={'start': 0.8, 'duration': 0.2}).to_ipython_svg()"
   ]
  },
  {
   "cell_type": "code",
   "execution_count": 4,
   "id": "897c8b10-1900-495e-80e8-fd300993187d",
   "metadata": {},
   "outputs": [
    {
     "data": {
      "image/svg+xml": [
       "<svg xmlns=\"http://www.w3.org/2000/svg\" xmlns:xlink=\"http://www.w3.org/1999/xlink\" width=\"240pt\" height=\"380pt\" viewBox=\"0 0 240 380\" version=\"1.1\">\n",
       "<g id=\"surface11\">\n",
       "<path style=\"fill:none;stroke-width:0.015;stroke-linecap:butt;stroke-linejoin:miter;stroke:rgb(0%,0%,0%);stroke-opacity:1;stroke-miterlimit:10;\" d=\"M 0.6 0 L 0.6 0.979996 M 0.579997 0.945354 L 0.6 0.979996 L 0.620003 0.945354 \" transform=\"matrix(240,0,0,380,0,0)\"/>\n",
       "<path style=\"fill:none;stroke-width:0.015;stroke-linecap:butt;stroke-linejoin:miter;stroke:rgb(0%,0%,0%);stroke-opacity:1;stroke-miterlimit:10;\" d=\"M 0.8 0 L 0.8 0.979996 M 0.779997 0.945354 L 0.8 0.979996 L 0.820003 0.945354 \" transform=\"matrix(240,0,0,380,0,0)\"/>\n",
       "<path style=\"fill-rule:nonzero;fill:rgb(90%,90%,90%);fill-opacity:1;stroke-width:0.002;stroke-linecap:butt;stroke-linejoin:miter;stroke:rgb(50%,50%,50%);stroke-opacity:1;stroke-miterlimit:10;\" d=\"M 0.520003 0.0450041 L 0.679997 0.0450041 L 0.679997 0.9 L 0.520003 0.9 Z M 0.520003 0.0450041 \" transform=\"matrix(240,0,0,380,0,0)\"/>\n",
       "<path style=\"fill-rule:nonzero;fill:rgb(85.490196%,90.980392%,98.823529%);fill-opacity:1;stroke-width:0.002;stroke-linecap:butt;stroke-linejoin:miter;stroke:rgb(42.352941%,55.686275%,74.901961%);stroke-opacity:1;stroke-miterlimit:10;\" d=\"M 0.520003 0.0899979 L 0.679997 0.0899979 L 0.679997 0.179996 L 0.520003 0.179996 Z M 0.520003 0.0899979 \" transform=\"matrix(240,0,0,380,0,0)\"/>\n",
       "<path style=\"fill-rule:nonzero;fill:rgb(88.235294%,83.529412%,90.588235%);fill-opacity:1;stroke-width:0.002;stroke-linecap:butt;stroke-linejoin:miter;stroke:rgb(58.823529%,45.098039%,65.098039%);stroke-opacity:1;stroke-miterlimit:10;\" d=\"M 0.520003 0.225 L 0.679997 0.225 L 0.679997 0.45 L 0.520003 0.45 Z M 0.520003 0.225 \" transform=\"matrix(240,0,0,380,0,0)\"/>\n",
       "<path style=\"fill-rule:nonzero;fill:rgb(83.529412%,90.980392%,83.137255%);fill-opacity:1;stroke-width:0.002;stroke-linecap:butt;stroke-linejoin:miter;stroke:rgb(50.980392%,70.196078%,40%);stroke-opacity:1;stroke-miterlimit:10;\" d=\"M 0.520003 0.270004 L 0.679997 0.270004 L 0.679997 0.360002 L 0.520003 0.360002 Z M 0.520003 0.270004 \" transform=\"matrix(240,0,0,380,0,0)\"/>\n",
       "<path style=\"fill-rule:nonzero;fill:rgb(97.254902%,80.784314%,80%);fill-opacity:1;stroke-width:0.002;stroke-linecap:butt;stroke-linejoin:miter;stroke:rgb(40.784314%,32.941176%,31.372549%);stroke-opacity:1;stroke-miterlimit:10;\" d=\"M 0.520003 0.495004 L 0.679997 0.495004 L 0.679997 0.765008 L 0.520003 0.765008 Z M 0.520003 0.495004 \" transform=\"matrix(240,0,0,380,0,0)\"/>\n",
       "<path style=\"fill-rule:nonzero;fill:rgb(100%,94.901961%,80%);fill-opacity:1;stroke-width:0.002;stroke-linecap:butt;stroke-linejoin:miter;stroke:rgb(83.921569%,71.372549%,33.72549%);stroke-opacity:1;stroke-miterlimit:10;\" d=\"M 0.720003 0 L 0.879997 0 L 0.879997 0.0899979 L 0.720003 0.0899979 Z M 0.720003 0 \" transform=\"matrix(240,0,0,380,0,0)\"/>\n",
       "<path style=\"fill-rule:nonzero;fill:rgb(100%,94.901961%,80%);fill-opacity:1;stroke-width:0.002;stroke-linecap:butt;stroke-linejoin:miter;stroke:rgb(83.921569%,71.372549%,33.72549%);stroke-opacity:1;stroke-miterlimit:10;\" d=\"M 0.720003 0.629996 L 0.879997 0.629996 L 0.879997 0.719994 L 0.720003 0.719994 Z M 0.720003 0.629996 \" transform=\"matrix(240,0,0,380,0,0)\"/>\n",
       "</g>\n",
       "</svg>"
      ],
      "text/plain": [
       "<IPython.core.display.SVG object>"
      ]
     },
     "execution_count": 4,
     "metadata": {},
     "output_type": "execute_result"
    }
   ],
   "source": [
    "TargetRPCGraph(\n",
    "    handler={'start': 0.0, 'duration': 0.1},\n",
    "    ult={'start': 0.05, 'duration': 0.95},\n",
    "    get_input={'start': 0.1, 'duration': 0.1},\n",
    "    irespond={'start': 0.25, 'duration': 0.25},\n",
    "    set_output={'start': 0.3, 'duration': 0.1},\n",
    "    wait={'start': 0.55, 'duration': 0.3},\n",
    "    respond_cb={'start': 0.7, 'duration': 0.1}).to_ipython_svg()"
   ]
  },
  {
   "cell_type": "code",
   "execution_count": null,
   "id": "21bff85a-852b-4177-9106-afd1c0eaf579",
   "metadata": {},
   "outputs": [],
   "source": []
  },
  {
   "cell_type": "code",
   "execution_count": null,
   "id": "ade6e362-b0c6-4476-bd3a-6448132e44b9",
   "metadata": {},
   "outputs": [],
   "source": []
  }
 ],
 "metadata": {
  "kernelspec": {
   "display_name": "Python 3 (ipykernel)",
   "language": "python",
   "name": "python3"
  },
  "language_info": {
   "codemirror_mode": {
    "name": "ipython",
    "version": 3
   },
   "file_extension": ".py",
   "mimetype": "text/x-python",
   "name": "python",
   "nbconvert_exporter": "python",
   "pygments_lexer": "ipython3",
   "version": "3.9.7"
  }
 },
 "nbformat": 4,
 "nbformat_minor": 5
}

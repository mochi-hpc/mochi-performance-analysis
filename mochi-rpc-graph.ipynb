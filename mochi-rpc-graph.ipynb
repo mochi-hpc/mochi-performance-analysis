{
 "cells": [
  {
   "cell_type": "markdown",
   "id": "3f8cb58d-6903-48a2-9c70-78e5299f0469",
   "metadata": {},
   "source": [
    "# Displaying RPC graphs"
   ]
  },
  {
   "cell_type": "markdown",
   "id": "1902617d-7e79-4b9f-8445-01ab6aa13635",
   "metadata": {},
   "source": [
    "This notebook provides code to display RPC graphs with the various operations extracted by margo's monitoring system."
   ]
  },
  {
   "cell_type": "code",
   "execution_count": 16,
   "id": "d75f75fe-baf6-4a2e-89f1-a21e5622e1fa",
   "metadata": {},
   "outputs": [],
   "source": [
    "import cairo\n",
    "import math\n",
    "import IPython\n",
    "from io import BytesIO\n",
    "from typing import Optional, Mapping\n",
    "\n",
    "\n",
    "class Colors:\n",
    "    blue = {'light': (0.8549019607843137, 0.9098039215686274, 0.9882352941176471, 1.0),\n",
    "            'dark': (0.4235294117647059, 0.5568627450980392, 0.7490196078431373, 1.0)}\n",
    "    red = {'light': (0.9725490196078431, 0.807843137254902, 0.8, 1.0),\n",
    "           'dark': (0.40784313725490196, 0.32941176470588235, 0.3137254901960784, 1.0)}\n",
    "    green = {'light': (0.8352941176470589, 0.9098039215686274, 0.8313725490196079, 1.0),\n",
    "             'dark': (0.5098039215686274, 0.7019607843137254, 0.4, 1.0)}\n",
    "    yellow = {'light': (1.0, 0.9490196078431372, 0.8, 1.0),\n",
    "              'dark': (0.8392156862745098, 0.7137254901960784, 0.33725490196078434, 1.0)}\n",
    "    purple = {'light': (0.8823529411764706, 0.8352941176470589, 0.9058823529411765, 1.0),\n",
    "              'dark': (0.5882352941176471, 0.45098039215686275, 0.6509803921568628, 1.0)}\n",
    "    grey = {'light': (0.9, 0.9, 0.9, 1.0),\n",
    "            'dark': (0.5, 0.5, 0.5, 1.0)}\n",
    "    \n",
    "class RPCGraph:\n",
    "    \n",
    "    def draw_arrow(self, context: cairo.Context, x: float):\n",
    "        arrow_length = 0.98\n",
    "        arrow_angle = math.pi/2\n",
    "        arrowhead_angle = math.pi/6\n",
    "        arrowhead_length = 0.04\n",
    "        context.move_to(x, 0)\n",
    "        context.rel_line_to(arrow_length * math.cos(arrow_angle), arrow_length * math.sin(arrow_angle))\n",
    "        context.rel_move_to(-arrowhead_length * math.cos(arrow_angle - arrowhead_angle), -arrowhead_length * math.sin(arrow_angle - arrowhead_angle))\n",
    "        context.rel_line_to(arrowhead_length * math.cos(arrow_angle - arrowhead_angle), arrowhead_length * math.sin(arrow_angle - arrowhead_angle))\n",
    "        context.rel_line_to(-arrowhead_length * math.cos(arrow_angle + arrowhead_angle), -arrowhead_length * math.sin(arrow_angle + arrowhead_angle))\n",
    "        context.set_source_rgb(0,0,0)\n",
    "        context.set_line_width(0.015)\n",
    "        context.stroke()\n",
    "    \n",
    "    def draw_block(self,\n",
    "                   context: cairo.Context,\n",
    "                   x: float, y: float, width: float, height: float,\n",
    "                   fill_color: tuple[float, float, float, float],\n",
    "                   border_color: Optional[tuple[float, float, float, float]] = None):\n",
    "        if border_color is None:\n",
    "            border_color = fill_color\n",
    "        context.set_line_width(0.002)\n",
    "        context.set_source_rgba(*fill_color)\n",
    "        context.rectangle(x, y, width, height)\n",
    "        context.fill()\n",
    "        context.stroke()\n",
    "        context.set_source_rgba(*border_color)  \n",
    "        context.rectangle(x, y, width, height)\n",
    "        context.stroke()\n",
    "          \n",
    "    def draw(self):\n",
    "        return IPython.display.SVG(data=self.svgio.getvalue())"
   ]
  },
  {
   "cell_type": "code",
   "execution_count": 17,
   "id": "55d974e1-1f90-4b74-b95a-4841565f608c",
   "metadata": {},
   "outputs": [
    {
     "data": {
      "image/svg+xml": [
       "<svg xmlns=\"http://www.w3.org/2000/svg\" xmlns:xlink=\"http://www.w3.org/1999/xlink\" width=\"240pt\" height=\"380pt\" viewBox=\"0 0 240 380\" version=\"1.1\">\n",
       "<g id=\"surface31\">\n",
       "<path style=\"fill:none;stroke-width:0.015;stroke-linecap:butt;stroke-linejoin:miter;stroke:rgb(0%,0%,0%);stroke-opacity:1;stroke-miterlimit:10;\" d=\"M 0.6 0 L 0.6 0.979996 M 0.579997 0.945354 L 0.6 0.979996 L 0.620003 0.945354 \" transform=\"matrix(240,0,0,380,0,0)\"/>\n",
       "<path style=\"fill:none;stroke-width:0.015;stroke-linecap:butt;stroke-linejoin:miter;stroke:rgb(0%,0%,0%);stroke-opacity:1;stroke-miterlimit:10;\" d=\"M 0.8 0 L 0.8 0.979996 M 0.779997 0.945354 L 0.8 0.979996 L 0.820003 0.945354 \" transform=\"matrix(240,0,0,380,0,0)\"/>\n",
       "<path style=\"fill:none;stroke-width:0.015;stroke-linecap:butt;stroke-linejoin:miter;stroke:rgb(0%,0%,0%);stroke-opacity:1;stroke-miterlimit:10;\" d=\"M 0.520003 0 L 0.679997 0 \" transform=\"matrix(240,0,0,380,0,0)\"/>\n",
       "<path style=\"fill-rule:nonzero;fill:rgb(88.235294%,83.529412%,90.588235%);fill-opacity:1;stroke-width:0.002;stroke-linecap:butt;stroke-linejoin:miter;stroke:rgb(58.823529%,45.098039%,65.098039%);stroke-opacity:1;stroke-miterlimit:10;\" d=\"M 0.520003 0.0899979 L 0.679997 0.0899979 L 0.679997 0.360002 L 0.520003 0.360002 Z M 0.520003 0.0899979 \" transform=\"matrix(240,0,0,380,0,0)\"/>\n",
       "<path style=\"fill-rule:nonzero;fill:rgb(85.490196%,90.980392%,98.823529%);fill-opacity:1;stroke-width:0.002;stroke-linecap:butt;stroke-linejoin:miter;stroke:rgb(42.352941%,55.686275%,74.901961%);stroke-opacity:1;stroke-miterlimit:10;\" d=\"M 0.520003 0.135002 L 0.679997 0.135002 L 0.679997 0.225 L 0.520003 0.225 Z M 0.520003 0.135002 \" transform=\"matrix(240,0,0,380,0,0)\"/>\n",
       "<path style=\"fill-rule:nonzero;fill:rgb(97.254902%,80.784314%,80%);fill-opacity:1;stroke-width:0.002;stroke-linecap:butt;stroke-linejoin:miter;stroke:rgb(40.784314%,32.941176%,31.372549%);stroke-opacity:1;stroke-miterlimit:10;\" d=\"M 0.520003 0.45 L 0.679997 0.45 L 0.679997 0.629996 L 0.520003 0.629996 Z M 0.520003 0.45 \" transform=\"matrix(240,0,0,380,0,0)\"/>\n",
       "<path style=\"fill-rule:nonzero;fill:rgb(83.529412%,90.980392%,83.137255%);fill-opacity:1;stroke-width:0.002;stroke-linecap:butt;stroke-linejoin:miter;stroke:rgb(50.980392%,70.196078%,40%);stroke-opacity:1;stroke-miterlimit:10;\" d=\"M 0.520003 0.720004 L 0.679997 0.720004 L 0.679997 0.9 L 0.520003 0.9 Z M 0.520003 0.720004 \" transform=\"matrix(240,0,0,380,0,0)\"/>\n",
       "<path style=\"fill-rule:nonzero;fill:rgb(100%,94.901961%,80%);fill-opacity:1;stroke-width:0.002;stroke-linecap:butt;stroke-linejoin:miter;stroke:rgb(83.921569%,71.372549%,33.72549%);stroke-opacity:1;stroke-miterlimit:10;\" d=\"M 0.720003 0.539998 L 0.879997 0.539998 L 0.879997 0.585002 L 0.720003 0.585002 Z M 0.720003 0.539998 \" transform=\"matrix(240,0,0,380,0,0)\"/>\n",
       "</g>\n",
       "</svg>"
      ],
      "text/plain": [
       "<IPython.core.display.SVG object>"
      ]
     },
     "execution_count": 17,
     "metadata": {},
     "output_type": "execute_result"
    }
   ],
   "source": [
    "class OriginRPCGraph(RPCGraph):\n",
    "    \n",
    "    def __init__(self, iforward: Mapping[str,float],\n",
    "                 set_input: Mapping[str, float],\n",
    "                 wait: Mapping[str, float],\n",
    "                 forward_cb: Mapping[str, float],\n",
    "                 get_output: Optional[Mapping[str, float]] = None):\n",
    "        self.svgio = BytesIO()\n",
    "        with cairo.SVGSurface(self.svgio, 240, 380) as surface:\n",
    "            context = cairo.Context(surface)\n",
    "            context.scale(240, 380)\n",
    "            # vertical arrows\n",
    "            self.draw_arrow(context, 0.6)\n",
    "            self.draw_arrow(context, 0.8)\n",
    "            # create line\n",
    "            context.move_to(0.52, 0)\n",
    "            context.rel_line_to(0.16, 0)\n",
    "            context.set_source_rgb(0,0,0)\n",
    "            context.set_line_width(0.015)\n",
    "            context.stroke()\n",
    "            # iforward, set_input, wait, get_output blocks\n",
    "            for block, color in zip(\n",
    "                [iforward, set_input, wait, get_output],\n",
    "                [Colors.purple,  Colors.blue,  Colors.red,  Colors.green]):\n",
    "                if block is None: continue\n",
    "                self.draw_block(context, 0.52, block['start']*0.9, 0.16, block['duration']*0.9, color['light'], color['dark'])\n",
    "            # forward_cb block\n",
    "            self.draw_block(context, 0.72, forward_cb['start']*0.9, 0.16, forward_cb['duration']*0.9, Colors.yellow['light'], Colors.yellow['dark'])\n",
    "        \n",
    "    \n",
    "OriginRPCGraph(\n",
    "    iforward={'start': 0.1, 'duration': 0.3},\n",
    "    set_input={'start': 0.15, 'duration': 0.1},\n",
    "    wait={'start': 0.5, 'duration': 0.2},\n",
    "    forward_cb={'start': 0.6, 'duration': 0.05},\n",
    "    get_output={'start': 0.8, 'duration': 0.2}).draw()"
   ]
  },
  {
   "cell_type": "code",
   "execution_count": 29,
   "id": "897c8b10-1900-495e-80e8-fd300993187d",
   "metadata": {},
   "outputs": [
    {
     "data": {
      "image/svg+xml": [
       "<svg xmlns=\"http://www.w3.org/2000/svg\" xmlns:xlink=\"http://www.w3.org/1999/xlink\" width=\"240pt\" height=\"380pt\" viewBox=\"0 0 240 380\" version=\"1.1\">\n",
       "<g id=\"surface86\">\n",
       "<path style=\"fill:none;stroke-width:0.015;stroke-linecap:butt;stroke-linejoin:miter;stroke:rgb(0%,0%,0%);stroke-opacity:1;stroke-miterlimit:10;\" d=\"M 0.6 0 L 0.6 0.979996 M 0.579997 0.945354 L 0.6 0.979996 L 0.620003 0.945354 \" transform=\"matrix(240,0,0,380,0,0)\"/>\n",
       "<path style=\"fill:none;stroke-width:0.015;stroke-linecap:butt;stroke-linejoin:miter;stroke:rgb(0%,0%,0%);stroke-opacity:1;stroke-miterlimit:10;\" d=\"M 0.8 0 L 0.8 0.979996 M 0.779997 0.945354 L 0.8 0.979996 L 0.820003 0.945354 \" transform=\"matrix(240,0,0,380,0,0)\"/>\n",
       "<path style=\"fill-rule:nonzero;fill:rgb(90%,90%,90%);fill-opacity:1;stroke-width:0.002;stroke-linecap:butt;stroke-linejoin:miter;stroke:rgb(50%,50%,50%);stroke-opacity:1;stroke-miterlimit:10;\" d=\"M 0.520003 0.0450041 L 0.679997 0.0450041 L 0.679997 0.9 L 0.520003 0.9 Z M 0.520003 0.0450041 \" transform=\"matrix(240,0,0,380,0,0)\"/>\n",
       "<path style=\"fill-rule:nonzero;fill:rgb(85.490196%,90.980392%,98.823529%);fill-opacity:1;stroke-width:0.002;stroke-linecap:butt;stroke-linejoin:miter;stroke:rgb(42.352941%,55.686275%,74.901961%);stroke-opacity:1;stroke-miterlimit:10;\" d=\"M 0.520003 0.0899979 L 0.679997 0.0899979 L 0.679997 0.179996 L 0.520003 0.179996 Z M 0.520003 0.0899979 \" transform=\"matrix(240,0,0,380,0,0)\"/>\n",
       "<path style=\"fill-rule:nonzero;fill:rgb(88.235294%,83.529412%,90.588235%);fill-opacity:1;stroke-width:0.002;stroke-linecap:butt;stroke-linejoin:miter;stroke:rgb(58.823529%,45.098039%,65.098039%);stroke-opacity:1;stroke-miterlimit:10;\" d=\"M 0.520003 0.225 L 0.679997 0.225 L 0.679997 0.45 L 0.520003 0.45 Z M 0.520003 0.225 \" transform=\"matrix(240,0,0,380,0,0)\"/>\n",
       "<path style=\"fill-rule:nonzero;fill:rgb(83.529412%,90.980392%,83.137255%);fill-opacity:1;stroke-width:0.002;stroke-linecap:butt;stroke-linejoin:miter;stroke:rgb(50.980392%,70.196078%,40%);stroke-opacity:1;stroke-miterlimit:10;\" d=\"M 0.520003 0.270004 L 0.679997 0.270004 L 0.679997 0.360002 L 0.520003 0.360002 Z M 0.520003 0.270004 \" transform=\"matrix(240,0,0,380,0,0)\"/>\n",
       "<path style=\"fill-rule:nonzero;fill:rgb(97.254902%,80.784314%,80%);fill-opacity:1;stroke-width:0.002;stroke-linecap:butt;stroke-linejoin:miter;stroke:rgb(40.784314%,32.941176%,31.372549%);stroke-opacity:1;stroke-miterlimit:10;\" d=\"M 0.520003 0.495004 L 0.679997 0.495004 L 0.679997 0.765008 L 0.520003 0.765008 Z M 0.520003 0.495004 \" transform=\"matrix(240,0,0,380,0,0)\"/>\n",
       "<path style=\"fill-rule:nonzero;fill:rgb(100%,94.901961%,80%);fill-opacity:1;stroke-width:0.002;stroke-linecap:butt;stroke-linejoin:miter;stroke:rgb(83.921569%,71.372549%,33.72549%);stroke-opacity:1;stroke-miterlimit:10;\" d=\"M 0.720003 0 L 0.879997 0 L 0.879997 0.0899979 L 0.720003 0.0899979 Z M 0.720003 0 \" transform=\"matrix(240,0,0,380,0,0)\"/>\n",
       "<path style=\"fill-rule:nonzero;fill:rgb(100%,94.901961%,80%);fill-opacity:1;stroke-width:0.002;stroke-linecap:butt;stroke-linejoin:miter;stroke:rgb(83.921569%,71.372549%,33.72549%);stroke-opacity:1;stroke-miterlimit:10;\" d=\"M 0.720003 0.629996 L 0.879997 0.629996 L 0.879997 0.719994 L 0.720003 0.719994 Z M 0.720003 0.629996 \" transform=\"matrix(240,0,0,380,0,0)\"/>\n",
       "</g>\n",
       "</svg>"
      ],
      "text/plain": [
       "<IPython.core.display.SVG object>"
      ]
     },
     "execution_count": 29,
     "metadata": {},
     "output_type": "execute_result"
    }
   ],
   "source": [
    "class TargetRPCGraph(RPCGraph):\n",
    "    \n",
    "    def __init__(self, handler: Mapping[str,float],\n",
    "                 ult: Mapping[str, float],\n",
    "                 get_input: Optional[Mapping[str, float]] = None,\n",
    "                 irespond: Optional[Mapping[str, float]] = None,\n",
    "                 set_output: Optional[Mapping[str, float]] = None,\n",
    "                 wait: Optional[Mapping[str, float]] = None,\n",
    "                 respond_cb: Optional[Mapping[str, float]] = None):\n",
    "        self.svgio = BytesIO()\n",
    "        with cairo.SVGSurface(self.svgio, 240, 380) as surface:\n",
    "            context = cairo.Context(surface)\n",
    "            context.scale(240, 380)\n",
    "            # vertical arrows\n",
    "            self.draw_arrow(context, 0.6)\n",
    "            self.draw_arrow(context, 0.8)\n",
    "            # iforward, set_input, wait, get_output blocks\n",
    "            for block, color in zip(\n",
    "                [ult, get_input, irespond, set_output, wait],\n",
    "                [Colors.grey,  Colors.blue,  Colors.purple,  Colors.green, Colors.red]):\n",
    "                if block is None: continue\n",
    "                self.draw_block(context, 0.52, block['start']*0.9, 0.16, block['duration']*0.9, color['light'], color['dark'])\n",
    "            # handler block\n",
    "            self.draw_block(context, 0.72, handler['start']*0.9, 0.16, handler['duration']*0.9, Colors.yellow['light'], Colors.yellow['dark'])\n",
    "            # respond_cb block\n",
    "            if respond_cb is not None:\n",
    "                self.draw_block(context, 0.72, respond_cb['start']*0.9, 0.16, respond_cb['duration']*0.9, Colors.yellow['light'], Colors.yellow['dark'])\n",
    "        \n",
    "    \n",
    "TargetRPCGraph(\n",
    "    handler={'start': 0.0, 'duration': 0.1},\n",
    "    ult={'start': 0.05, 'duration': 0.95},\n",
    "    get_input={'start': 0.1, 'duration': 0.1},\n",
    "    irespond={'start': 0.25, 'duration': 0.25},\n",
    "    set_output={'start': 0.3, 'duration': 0.1},\n",
    "    wait={'start': 0.55, 'duration': 0.3},\n",
    "    respond_cb={'start': 0.7, 'duration': 0.1}).draw()"
   ]
  },
  {
   "cell_type": "code",
   "execution_count": null,
   "id": "21bff85a-852b-4177-9106-afd1c0eaf579",
   "metadata": {},
   "outputs": [],
   "source": []
  },
  {
   "cell_type": "code",
   "execution_count": null,
   "id": "ade6e362-b0c6-4476-bd3a-6448132e44b9",
   "metadata": {},
   "outputs": [],
   "source": []
  }
 ],
 "metadata": {
  "kernelspec": {
   "display_name": "Python 3 (ipykernel)",
   "language": "python",
   "name": "python3"
  },
  "language_info": {
   "codemirror_mode": {
    "name": "ipython",
    "version": 3
   },
   "file_extension": ".py",
   "mimetype": "text/x-python",
   "name": "python",
   "nbconvert_exporter": "python",
   "pygments_lexer": "ipython3",
   "version": "3.9.7"
  }
 },
 "nbformat": 4,
 "nbformat_minor": 5
}
